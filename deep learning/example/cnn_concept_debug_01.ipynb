{
 "cells": [
  {
   "cell_type": "code",
   "execution_count": 1,
   "metadata": {},
   "outputs": [
    {
     "name": "stdout",
     "output_type": "stream",
     "text": [
      "Tensor(\"add:0\", shape=(?, 16, 16, 20), dtype=float32)\n"
     ]
    }
   ],
   "source": [
    "import tensorflow as tf\n",
    "input = tf.placeholder(tf.float32,(None, 32, 32, 3))\n",
    "# (height, width, input_depth, output_dep\n",
    "filter_weights = tf.Variable(tf.truncated_normal((8,8,3,20)))\n",
    "filter_bias = tf.Variable(tf.zeros(20))\n",
    "# (batch, height, width, depth)\n",
    "strides = [1,2,2,1]\n",
    "padding = 'SAME'\n",
    "conv = tf.nn.conv2d(input, filter_weights, strides, padding) + filter_bias\n",
    "print(conv)"
   ]
  },
  {
   "cell_type": "code",
   "execution_count": 2,
   "metadata": {},
   "outputs": [
    {
     "name": "stdout",
     "output_type": "stream",
     "text": [
      "Tensor(\"Relu:0\", shape=(?, 5, 5, 64), dtype=float32)\n"
     ]
    }
   ],
   "source": [
    "# Output depth\n",
    "k_output = 64\n",
    "\n",
    "# Image Properties\n",
    "image_width = 10\n",
    "image_height = 10\n",
    "color_channels = 3\n",
    "\n",
    "# Convolution filter\n",
    "filter_size_width = 5\n",
    "filter_size_height = 5\n",
    "\n",
    "# Input/Image\n",
    "input = tf.placeholder(tf.float32, shape=[None, image_height, image_width, color_channels])\n",
    "\n",
    "# weight and bias \n",
    "# filter\n",
    "weight = tf.Variable(tf.truncated_normal([filter_size_height, filter_size_width, color_channels, k_output]))\n",
    "bias = tf.Variable(tf.zeros(k_output))\n",
    "\n",
    "# Apply Convolution\n",
    "# strides [batch, input_height, input_width, input_channels]\n",
    "# 通常把 batch 和 input_channels (strides 序列中的第一个第四个)的 stride 设为 1\n",
    "conv_layer = tf.nn.conv2d(input, weight, strides=[1,2,2,1], padding='SAME')\n",
    "\n",
    "# Add bias\n",
    "# 偏置项\n",
    "conv_layer = tf.nn.bias_add(conv_layer, bias)\n",
    "\n",
    "# Apply activation function\n",
    "conv_layer = tf.nn.relu(conv_layer)\n",
    "print(conv_layer)"
   ]
  },
  {
   "cell_type": "code",
   "execution_count": 3,
   "metadata": {},
   "outputs": [
    {
     "name": "stdout",
     "output_type": "stream",
     "text": [
      "Tensor(\"MaxPool:0\", shape=(?, 3, 3, 64), dtype=float32)\n"
     ]
    }
   ],
   "source": [
    "# Apply Max Pooling\n",
    "conv_layer = tf.nn.max_pool(\n",
    "    conv_layer,\n",
    "    ksize=[1, 2, 2, 1],\n",
    "    strides=[1, 2, 2, 1],\n",
    "    padding='SAME')\n",
    "print(conv_layer)"
   ]
  },
  {
   "cell_type": "code",
   "execution_count": 5,
   "metadata": {},
   "outputs": [
    {
     "name": "stdout",
     "output_type": "stream",
     "text": [
      "Tensor(\"MaxPool_2:0\", shape=(?, 2, 2, 5), dtype=float32)\n"
     ]
    }
   ],
   "source": [
    "input = tf.placeholder(tf.float32,(None,4,4,5))\n",
    "filter_shape = [1,2,2,1]\n",
    "strides = [1,2,2,1]\n",
    "padding = 'VALID'\n",
    "pool = tf.nn.max_pool(\n",
    "    input,\n",
    "    filter_shape,\n",
    "    strides,\n",
    "    padding)\n",
    "print(pool)"
   ]
  },
  {
   "cell_type": "code",
   "execution_count": 6,
   "metadata": {},
   "outputs": [
    {
     "name": "stdout",
     "output_type": "stream",
     "text": [
      "Tensor(\"AvgPool:0\", shape=(?, 2, 2, 5), dtype=float32)\n"
     ]
    }
   ],
   "source": [
    "input = tf.placeholder(tf.float32,(None,4,4,5))\n",
    "filter_shape = [1,2,2,1]\n",
    "strides = [1,2,2,1]\n",
    "padding = 'VALID'\n",
    "pool = tf.nn.avg_pool(\n",
    "    input,\n",
    "    filter_shape,\n",
    "    strides,\n",
    "    padding)\n",
    "print(pool)"
   ]
  },
  {
   "cell_type": "code",
   "execution_count": null,
   "metadata": {},
   "outputs": [],
   "source": []
  }
 ],
 "metadata": {
  "kernelspec": {
   "display_name": "Python 3",
   "language": "python",
   "name": "python3"
  },
  "language_info": {
   "codemirror_mode": {
    "name": "ipython",
    "version": 3
   },
   "file_extension": ".py",
   "mimetype": "text/x-python",
   "name": "python",
   "nbconvert_exporter": "python",
   "pygments_lexer": "ipython3",
   "version": "3.6.5"
  }
 },
 "nbformat": 4,
 "nbformat_minor": 2
}
