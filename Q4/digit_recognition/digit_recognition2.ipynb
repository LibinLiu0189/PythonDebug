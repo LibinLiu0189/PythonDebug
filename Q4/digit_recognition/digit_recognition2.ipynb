{
 "cells": [
  {
   "cell_type": "markdown",
   "metadata": {},
   "source": [
    "# 机器学习工程师纳米学位\n",
    "## 深度学习\n",
    "## 项目：搭建一个数字识别项目\n",
    "\n",
    "在此文件中，我们提供给你了一个模板，以便于你根据项目的要求一步步实现要求的功能，进而完成整个项目。如果你认为需要导入另外的一些代码，请确保你正确导入了他们，并且包含在你的提交文件中。以**'练习'**开始的标题表示接下来你将开始实现你的项目。注意有一些练习是可选的，并且用**'可选'**标记出来了。\n",
    "\n",
    "在此文件中，有些示例代码已经提供给你，但你还需要实现更多的功能让项目成功运行。除非有明确要求，你无须修改任何已给出的代码。以'练习'开始的标题表示接下来的代码部分中有你必须要实现的功能。每一部分都会有详细的指导，需要实现的部分也会在注释中以'TODO'标出。请仔细阅读所有的提示！\n",
    "\n",
    "除了实现代码外，你还必须回答一些与项目和你的实现有关的问题。每一个需要你回答的问题都会以**'问题 X'**为标题。请仔细阅读每个问题，并且在问题后的**'回答'**文字框中写出完整的答案。我们将根据你对问题的回答和撰写代码所实现的功能来对你提交的项目进行评分。\n",
    "\n",
    ">**注意：** Code 和 Markdown 区域可通过 **Shift + Enter** 快捷键运行。此外，Markdown可以通过双击进入编辑模式。"
   ]
  },
  {
   "cell_type": "code",
   "execution_count": 1,
   "metadata": {
    "collapsed": true
   },
   "outputs": [],
   "source": [
    "import pydot"
   ]
  },
  {
   "cell_type": "markdown",
   "metadata": {},
   "source": [
    "## 连接 mnist 的字符来合成数据\n",
    "\n",
    "你可以通过连接[MNIST](http://yann.lecun.com/exdb/mnist/)的字符来合成数据来训练这个模型。为了快速导入数据集，我们可以使用 [Keras Datasets](https://keras.io/datasets/#mnist-database-of-handwritten-digits) [中文文档](http://keras-cn.readthedocs.io/en/latest/other/datasets/#mnist)。"
   ]
  },
  {
   "cell_type": "markdown",
   "metadata": {},
   "source": [
    "### 载入 mnist"
   ]
  },
  {
   "cell_type": "code",
   "execution_count": 2,
   "metadata": {},
   "outputs": [
    {
     "name": "stderr",
     "output_type": "stream",
     "text": [
      "C:\\ProgramData\\Anaconda3\\envs\\tensorflow\\lib\\site-packages\\h5py\\__init__.py:36: FutureWarning: Conversion of the second argument of issubdtype from `float` to `np.floating` is deprecated. In future, it will be treated as `np.float64 == np.dtype(float).type`.\n",
      "  from ._conv import register_converters as _register_converters\n",
      "Using TensorFlow backend.\n"
     ]
    },
    {
     "name": "stdout",
     "output_type": "stream",
     "text": [
      "Extracting MNIST_data\\train-images-idx3-ubyte.gz\n",
      "Extracting MNIST_data\\train-labels-idx1-ubyte.gz\n",
      "Extracting MNIST_data\\t10k-images-idx3-ubyte.gz\n",
      "Extracting MNIST_data\\t10k-labels-idx1-ubyte.gz\n",
      "55000 10000\n"
     ]
    }
   ],
   "source": [
    "from keras.datasets import mnist\n",
    "from tensorflow.examples.tutorials.mnist import input_data \n",
    "\n",
    "\n",
    "#(X_raw, y_raw), (X_raw_test, y_raw_test) = mnist.load_data(\"MNIST_data\")\n",
    "\n",
    "#n_train, n_test = X_raw.shape[0], X_raw_test.shape[0]\n",
    "\n",
    "\n",
    "mnist_data = input_data.read_data_sets(\"MNIST_data\")\n",
    "\n",
    "X_raw  = mnist_data.train.images\n",
    "y_raw  = mnist_data.train.labels\n",
    "\n",
    "\n",
    "X_raw_test  = mnist_data.test.images\n",
    "y_raw_test  = mnist_data.test.labels\n",
    "\n",
    "n_train, n_test = X_raw.shape[0], X_raw_test.shape[0]\n",
    "\n",
    "print (n_train, n_test)\n",
    "X_raw  = X_raw.reshape(n_train,28,28)\n",
    "X_raw_test  = X_raw_test.reshape(n_test,28,28)"
   ]
  },
  {
   "cell_type": "markdown",
   "metadata": {},
   "source": [
    "### 可视化 mnist\n",
    "\n",
    "我们可以通过 matplotlib 来可视化我们的原始数据集。"
   ]
  },
  {
   "cell_type": "code",
   "execution_count": 3,
   "metadata": {},
   "outputs": [
    {
     "data": {
      "image/png": "[encoded data removed]",
      "text/plain": [
       "<matplotlib.figure.Figure at 0xffef0f0>"
      ]
     },
     "metadata": {
      "image/png": {
       "height": 257,
       "width": 370
      }
     },
     "output_type": "display_data"
    }
   ],
   "source": [
    "import matplotlib.pyplot as plt\n",
    "import random\n",
    "import numpy as np\n",
    "%matplotlib inline\n",
    "%config InlineBackend.figure_format = 'retina'\n",
    "\n",
    "for i in range(15):\n",
    "    plt.subplot(3, 5, i+1)\n",
    "    index = random.randint(0, n_train-1)\n",
    "    plt.title(str(y_raw[index]))\n",
    "    plt.imshow(X_raw[index], cmap='gray')\n",
    "    plt.axis('off')"
   ]
  },
  {
   "cell_type": "markdown",
   "metadata": {},
   "source": [
    "### 练习：合成数据\n",
    "\n",
    "你需要随机取随机张图片，然后将它们拼接成新的图片。\n",
    "\n",
    "你需要设置20%的数据作为验证集，以保证模型没有过拟合。"
   ]
  },
  {
   "cell_type": "code",
   "execution_count": 4,
   "metadata": {
    "collapsed": true
   },
   "outputs": [],
   "source": [
    "import numpy as np\n",
    "from sklearn.model_selection import train_test_split\n",
    "\n",
    "n_class, n_len, width, height = 11, 5, 28, 28\n",
    "\n",
    "def generate_dataset(X, y):\n",
    "    X_len = X.shape[0]\n",
    "    \n",
    "    X_gen = np.zeros((X_len, height, width*n_len,1), dtype=np.float32)\n",
    "    y_gen = [np.zeros((X_len, n_class), dtype=np.uint8) for i in range(n_len)]\n",
    "    # TODO: 随机取1~5个数字，并拼接成新的图片\n",
    "    # 缺少的图片用空白替代\n",
    "    \n",
    "    \n",
    "    for i in range(X_len):\n",
    "        # 生成当前样本数字个数\n",
    "        num = random.randint(1,5)            \n",
    "    \n",
    "        #抽取的序号\n",
    "        index = [random.randint(0, X_len-1) for  j in range (num)]\n",
    "                \n",
    "        #拼接图片\n",
    "        temp = np.hstack((X[index[i]] for i in range (num) )).reshape((height, width*num, 1))                  \n",
    "        \n",
    "        #把图片赋值到集合中\n",
    "        X_gen[i,0:height,0:num*width,0] = temp[:,:,0]\n",
    "        #print (temp.shape)\n",
    "        \n",
    "        \n",
    "        \n",
    "        #设置y的值\n",
    "        #print(\"num:\",num)\n",
    "        for count in range(0,5):\n",
    "            if count >= num:\n",
    "                y_gen[count][i][10] =  1\n",
    "            else:\n",
    "                y_gen[count][i][y[index[count]]] =  1\n",
    "            # print (\"count:\",count,y_gen[count][i])   \n",
    "\n",
    "    \n",
    "    return X_gen, y_gen\n",
    "\n",
    "\n",
    "X_raw_train, X_raw_valid, y_raw_train, y_raw_valid = train_test_split(X_raw,y_raw,test_size=0.2,random_state=0)\n",
    "\n",
    "\n",
    "X_train, y_train = generate_dataset(X_raw_train, y_raw_train)\n",
    "X_valid, y_valid = generate_dataset(X_raw_valid, y_raw_valid)\n",
    "X_test, y_test = generate_dataset(X_raw_test, y_raw_test)\n"
   ]
  },
  {
   "cell_type": "code",
   "execution_count": 5,
   "metadata": {},
   "outputs": [
    {
     "data": {
      "image/png": "[encoded data removed]",
      "text/plain": [
       "<matplotlib.figure.Figure at 0x12f53630>"
      ]
     },
     "metadata": {
      "image/png": {
       "height": 246,
       "width": 370
      }
     },
     "output_type": "display_data"
    }
   ],
   "source": [
    "# 显示生成的图片\n",
    "for i in range(15):\n",
    "    plt.subplot(5, 3, i+1)\n",
    "    index = random.randint(0, n_test-1)\n",
    "    title = ''\n",
    "    for j in range(n_len):\n",
    "        title += str(np.argmax(y_test[j][index])) + ','\n",
    "    \n",
    "    plt.title(title)\n",
    "    plt.imshow(X_test[index][:,:,0], cmap='gray')\n",
    "    plt.axis('off')"
   ]
  },
  {
   "cell_type": "markdown",
   "metadata": {},
   "source": [
    "### 问题 1\n",
    "_你是如何合成数据集的？，为什么要分训练集，验证集和测试集？_\n",
    "\n",
    "**回答：**\n",
    "- 1 使用train_test_split函数，分割出训练集和验证集\n",
    "- 2 随机取1~5个数字，并拼接成新的图片，缺少的图片用空白替代，空白对应的标志是10"
   ]
  },
  {
   "cell_type": "markdown",
   "metadata": {},
   "source": [
    "### 练习：设计并测试一个模型架构\n",
    "\n",
    "设计并实现一个能够识别数字序列的深度学习模型。为了产生用于测试的合成数字序列，你可以进行如下的设置：比如，你可以限制一个数据序列最多五个数字，并在你的深度网络上使用五个分类器。同时，你有必要准备一个额外的“空白”的字符，以处理相对较短的数字序列。\n",
    "X_raw\n",
    "在思考这个问题的时候有很多方面可以考虑：\n",
    "\n",
    "- 你的模型可以基于深度神经网络或者是卷积神经网络。\n",
    "- 你可以尝试是否在每个分类器间共享权值。\n",
    "- 你还可以在深度神经网络中使用循环网络来替换其中的分类层，并且将数字序列里的数字一个一个地输出。\n",
    "\n",
    "在使用 Keras 搭建模型的时候，你可以使用 [函数式模型 API](http://keras-cn.readthedocs.io/en/latest/models/model/) 的方式来搭建多输出模型。"
   ]
  },
  {
   "cell_type": "code",
   "execution_count": null,
   "metadata": {},
   "outputs": [],
   "source": [
    "y_train1 = np.hstack((y_train[0],y_train[1],y_train[2],y_train[3],y_train[4]))\n",
    "y_valid1 = np.hstack((y_valid[0],y_valid[1],y_valid[2],y_valid[3],y_valid[4]))\n",
    "y_test1 = np.hstack((y_test[0],y_test[1],y_test[2],y_test[3],y_test[4]))\n",
    "\n",
    "print (y_train1.shape)\n",
    "print (y_train1[0].shape)\n",
    "print (y_train[0].shape)"
   ]
  },
  {
   "cell_type": "code",
   "execution_count": 7,
   "metadata": {
    "scrolled": false
   },
   "outputs": [
    {
     "name": "stdout",
     "output_type": "stream",
     "text": [
      "_________________________________________________________________\n",
      "Layer (type)                 Output Shape              Param #   \n",
      "=================================================================\n",
      "conv2d_1 (Conv2D)            (None, 28, 140, 32)       320       \n",
      "_________________________________________________________________\n",
      "activation_1 (Activation)    (None, 28, 140, 32)       0         \n",
      "_________________________________________________________________\n",
      "batch_normalization_1 (Batch (None, 28, 140, 32)       112       \n",
      "_________________________________________________________________\n",
      "max_pooling2d_1 (MaxPooling2 (None, 14, 70, 32)        0         \n",
      "_________________________________________________________________\n",
      "conv2d_2 (Conv2D)            (None, 14, 70, 32)        9248      \n",
      "_________________________________________________________________\n",
      "activation_2 (Activation)    (None, 14, 70, 32)        0         \n",
      "_________________________________________________________________\n",
      "max_pooling2d_2 (MaxPooling2 (None, 7, 35, 32)         0         \n",
      "_________________________________________________________________\n",
      "dense_1 (Dense)              (None, 7, 35, 128)        4224      \n",
      "_________________________________________________________________\n",
      "activation_3 (Activation)    (None, 7, 35, 128)        0         \n",
      "_________________________________________________________________\n",
      "flatten_1 (Flatten)          (None, 31360)             0         \n",
      "_________________________________________________________________\n",
      "dropout_1 (Dropout)          (None, 31360)             0         \n",
      "_________________________________________________________________\n",
      "dense_2 (Dense)              (None, 55)                1724855   \n",
      "_________________________________________________________________\n",
      "activation_4 (Activation)    (None, 55)                0         \n",
      "=================================================================\n",
      "Total params: 1,738,759\n",
      "Trainable params: 1,738,703\n",
      "Non-trainable params: 56\n",
      "_________________________________________________________________\n"
     ]
    }
   ],
   "source": [
    "from keras.models import Model\n",
    "from keras.layers import *\n",
    "from keras.models import save_model,load_model\n",
    "from keras.models import Sequential\n",
    "from keras.utils import np_utils\n",
    "import keras\n",
    "\n",
    "# TODO: 构建你的模型\n",
    "\n",
    "pool_size = (2,2)\n",
    "batch_size = 64\n",
    "\n",
    "lenet = Sequential()\n",
    "lenet.add(Conv2D(32, kernel_size=(3,3),  padding='same', strides=(1, 1),\n",
    "                 input_shape=(28, 140, 1)))  \n",
    "lenet.add(Activation('relu'))\n",
    "\n",
    "\n",
    "lenet.add(BatchNormalization(epsilon=1e-6,axis=1))\n",
    "lenet.add(MaxPool2D(pool_size = pool_size))\n",
    "lenet.add(Conv2D(32,kernel_size=(3,3) ,padding='same'))\n",
    "lenet.add(Activation('relu'))\n",
    "\n",
    "lenet.add(MaxPool2D(pool_size = pool_size))\n",
    "lenet.add(Dense(128))\n",
    "lenet.add(Activation('relu'))\n",
    "lenet.add(Flatten())\n",
    "\n",
    "lenet.add(Dropout(0.25))\n",
    "lenet.add(Dense(55))\n",
    "lenet.add(Activation('softmax'))\n",
    "\n",
    "adam_lr = 0.0002\n",
    "adam_beta_1 = 0.5\n",
    "\n",
    "lenet.compile(loss=keras.losses.categorical_crossentropy,optimizer = keras.optimizers.Adam(lr=adam_lr, beta_1=adam_beta_1),metrics=['accuracy'])     \n",
    "\n",
    "lenet.summary()"
   ]
  },
  {
   "cell_type": "markdown",
   "metadata": {},
   "source": [
    "### 问题 2\n",
    "_你为解决这个问题采取了什么技术？请详细介绍你使用的技术。_\n",
    "\n",
    "**回答：**\n",
    "**使用了卷积神经网络.**\n",
    "\n",
    "我们人看到一幅图像，眨眼之间就知道图像中有什么，图像中的主体在干什么。但计算机不同，计算机看到的每一副图像都是一个数字矩阵。那我们怎么让计算机从一个个数字矩阵中得到有用的信息呢，比如边缘，角点？更甚一点，怎么让计算机理解图像呢？\n",
    "\n",
    "对图像进行卷积，就是接近目标的第一步。\n",
    "\n",
    "对图像卷积，就是求卷积核作用在图像后，得到的图像对于该卷积核的累加数值。这些累加的数值可以代表这个图片的一些特征。\n",
    "\n",
    "如果是针对猫进行识别，人可能知道猫头，猫尾巴等特征。CNN对图片进行处理后，也会学习到一些特征，它可能不知道猫头、猫尾巴这些特征，但也会识别出一些我们可能看不出来的特征，CNN通过这些学习到的特征去做判断。"
   ]
  },
  {
   "cell_type": "markdown",
   "metadata": {},
   "source": [
    "### 可视化你的网络模型\n",
    "\n",
    "参考链接：[可视化visualization](http://keras-cn.readthedocs.io/en/latest/other/visualization/)\n",
    "\n",
    "可以是保存成 PNG 格式显示，也可以直接使用 SVG 格式。 SVG 是矢量图，它的优点是可以无限放大。"
   ]
  },
  {
   "cell_type": "code",
   "execution_count": 10,
   "metadata": {
    "collapsed": true
   },
   "outputs": [],
   "source": [
    "import pydot"
   ]
  },
  {
   "cell_type": "code",
   "execution_count": 11,
   "metadata": {},
   "outputs": [],
   "source": [
    "from keras.utils.vis_utils import plot_model, model_to_dot\n",
    "from IPython.display import Image, SVG\n",
    "\n",
    "# TODO: 可视化你的模型\n",
    "\n",
    "# plot_model(lenet, to_file='model.png',show_shapes = True)\n",
    "# SVG(model_to_dot(lenet).create(prog='dot', format='svg'))\n"
   ]
  },
  {
   "cell_type": "markdown",
   "metadata": {},
   "source": [
    "## 问题 3\n",
    "_你最终的模型架构是什么样的？（什么类型的模型，层数，大小, 如何连接等）_\n",
    "\n",
    "**回答：**\n",
    "使用了(Sequential)序贯模型\n",
    "\n",
    "### 有22层\n",
    "\n",
    "- Zeropadding2d_1\n",
    "- Conv2D1\n",
    "- Active1\n",
    "- BatchNormal1\n",
    "- Maxpooling2d1\n",
    "\n",
    "- Zeropadding2d2\n",
    "- Conv2D2\n",
    "- Active2\n",
    "- BatchNormal2\n",
    "- Maxpooling2d2\n",
    "\n",
    "- Zeropadding2d3\n",
    "- Conv2D3\n",
    "- Active3\n",
    "- BatchNormal3\n",
    "- Maxpooling2d3\n",
    "\n",
    "- Dropout1 \n",
    "- Flatten1\n",
    "- Dropout2\n",
    "\n",
    "- Dense1\n",
    "- Active4\n",
    "\n",
    "- Dense2\n",
    "- Active5\n",
    "\n",
    "大小有：434,258个参数\n",
    "\n",
    "### 每层的连接情况如上\n"
   ]
  },
  {
   "cell_type": "markdown",
   "metadata": {},
   "source": [
    "### 练习：训练你的网络模型\n",
    "\n",
    "训练你的模型时，需要设置训练集和验证集。"
   ]
  },
  {
   "cell_type": "code",
   "execution_count": null,
   "metadata": {
    "scrolled": false
   },
   "outputs": [
    {
     "name": "stdout",
     "output_type": "stream",
     "text": [
      "Train on 44000 samples, validate on 11000 samples\n",
      "Epoch 1/5\n",
      "44000/44000 [==============================] - 1920s 44ms/step - loss: 10.1540 - acc: 0.1963 - val_loss: 9.1125 - val_acc: 0.2684\n",
      "Epoch 2/5\n",
      "44000/44000 [==============================] - 1892s 43ms/step - loss: 8.9733 - acc: 0.2385 - val_loss: 8.8490 - val_acc: 0.2754\n",
      "Epoch 3/5\n",
      " 2432/44000 [>.............................] - ETA: 26:10 - loss: 8.7551 - acc: 0.2442"
     ]
    }
   ],
   "source": [
    "# TODO: 训练你的模型\n",
    "\n",
    "#lenet = load_model('model.h5')\n",
    "lenet.fit(X_train,y_train1,batch_size=batch_size,epochs=5,verbose = 1,validation_data = (X_valid,y_valid1))\n"
   ]
  },
  {
   "cell_type": "code",
   "execution_count": null,
   "metadata": {
    "collapsed": true
   },
   "outputs": [],
   "source": [
    "lenet.save('model.h5')"
   ]
  },
  {
   "cell_type": "markdown",
   "metadata": {},
   "source": [
    "### 练习：计算你的模型准确率\n",
    "\n",
    "我们刚才得到了模型每个数字的准确率，现在让我们来计算整体准确率，按照完全预测正确数字序列的标准来计算。\n",
    "\n",
    "比如 1,2,3,10,10 预测成了 1,2,10,10,10 算错，而不是算对了80%。"
   ]
  },
  {
   "cell_type": "code",
   "execution_count": null,
   "metadata": {
    "collapsed": true,
    "scrolled": true
   },
   "outputs": [],
   "source": [
    "def evaluate(model):\n",
    "    # TODO: 按照错一个就算错的规则计算准确率\n",
    "    total_right = 0.0\n",
    "    error = 0\n",
    "    \n",
    "    # TODO: 按照错一个就算错的规则计算准确率\n",
    "    for index in range(y_test[0].shape[0]):\n",
    "        pred = lenet.predict(X_test[index].reshape(1, height, width*n_len, 1))\n",
    "        \n",
    "        right_num = 0\n",
    "        \n",
    "        for i in range(5):\n",
    "            #计算每个片段的预测值\n",
    "            pred_part= np.argmax(pred[0,i*11:(i+1)*11])\n",
    "            \n",
    "            y_test_part = np.argmax(y_test[i][index])\n",
    "\n",
    "            # 对比片段是否正确\n",
    "            part_result= (y_test_part == pred_part)\n",
    "            \n",
    "            # 计算这个图形正确的数字个数\n",
    "            right_num = right_num + part_result\n",
    "        \n",
    "        #如果5个都正确，则总正确数+1\n",
    "        if right_num == 5:\n",
    "            \n",
    "            total_right =  total_right +1 \n",
    "            \n",
    "    #计算准确率        \n",
    "    acc =  total_right/y_test[0].shape[0]\n",
    "    return acc\n",
    "\n",
    "\n",
    "print(\"accuracy:\",evaluate(lenet))"
   ]
  },
  {
   "cell_type": "markdown",
   "metadata": {},
   "source": [
    "### 问题 4\n",
    "\n",
    "_你的模型准确率有多少？你觉得你的模型足以解决问题吗？_\n",
    "\n",
    "**回答：**\n",
    "\n",
    "模型的准确率有95.99%，我觉得我的模型足以解决问题"
   ]
  },
  {
   "cell_type": "markdown",
   "metadata": {},
   "source": [
    "### 预测值可视化\n",
    "\n",
    "我们将模型的预测结果和真实值画出来，观察真实效果。"
   ]
  },
  {
   "cell_type": "code",
   "execution_count": null,
   "metadata": {
    "collapsed": true
   },
   "outputs": [],
   "source": [
    "def get_result_pre(result):\n",
    "    resultstr = \"\"\n",
    "    for i in range(n_len):\n",
    "        pred_part= np.argmax(result[0,i*11:(i+1)*11])\n",
    "        resultstr += str(pred_part)+  ','\n",
    "    return resultstr\n",
    "\n",
    "\n",
    "def get_result_real(result):\n",
    "    resultstr = ''\n",
    "\n",
    "    for i in range(n_len):\n",
    "        \n",
    "        resultstr =resultstr + str(np.argmax(result[i]))+','\n",
    "                                    \n",
    "    return resultstr\n",
    "\n",
    "index = random.randint(0, n_test-1)\n",
    "y_pred = lenet.predict(X_test[index].reshape(1, height, width*n_len, 1))\n",
    "\n",
    "str_test = get_result_real([y_test[x][index] for x in range(n_len)])\n",
    "                           \n",
    "str_pre = get_result_pre(y_pred)                          \n",
    "\n",
    "#print (str_test,str_pre)\n",
    "                           \n",
    "plt.title('real: %s\\npred:%s'%(str_test, str_pre))\n",
    "plt.imshow(X_test[index,:,:,0], cmap='gray')\n",
    "plt.axis('off')"
   ]
  },
  {
   "cell_type": "markdown",
   "metadata": {},
   "source": [
    "### 保存模型\n",
    "\n",
    "模型达到满意的效果以后，我们需要保存模型，以便下次调用。\n",
    "\n",
    "读取的方式也很简单：`model = load_model('model.h5')`"
   ]
  },
  {
   "cell_type": "code",
   "execution_count": null,
   "metadata": {
    "collapsed": true
   },
   "outputs": [],
   "source": [
    "lenet.save('model.h5')"
   ]
  },
  {
   "cell_type": "code",
   "execution_count": null,
   "metadata": {
    "collapsed": true
   },
   "outputs": [],
   "source": []
  }
 ],
 "metadata": {
  "anaconda-cloud": {},
  "kernelspec": {
   "display_name": "Python 3",
   "language": "python",
   "name": "python3"
  },
  "language_info": {
   "codemirror_mode": {
    "name": "ipython",
    "version": 3
   },
   "file_extension": ".py",
   "mimetype": "text/x-python",
   "name": "python",
   "nbconvert_exporter": "python",
   "pygments_lexer": "ipython3",
   "version": "3.6.2"
  }
 },
 "nbformat": 4,
 "nbformat_minor": 1
}
