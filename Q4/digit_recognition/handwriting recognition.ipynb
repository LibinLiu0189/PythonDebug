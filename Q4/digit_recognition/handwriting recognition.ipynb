{
 "cells": [
  {
   "cell_type": "code",
   "execution_count": 21,
   "metadata": {
    "collapsed": true
   },
   "outputs": [],
   "source": [
    "# 利用Keras实现基于cnn的手写识别\n",
    "# https://zhuanlan.zhihu.com/p/33307255\n",
    "import keras\n",
    "from keras.datasets import mnist\n",
    "from keras.models import Sequential\n",
    "from keras.layers import Dense,Flatten,BatchNormalization\n",
    "from keras.layers import Conv2D, MaxPooling2D\n",
    "from keras.optimizers import Adam\n",
    "\n",
    "#输出数据类别\n",
    "# 输入的图片是28*28像素的灰度图\n",
    "num_classes=10\n",
    "img_rows, img_cols = 28, 28\n",
    "# 载入训练集，测试集\n",
    "(x_train, y_train), (x_test, y_test) = mnist.load_data()"
   ]
  },
  {
   "cell_type": "code",
   "execution_count": 22,
   "metadata": {
    "collapsed": true
   },
   "outputs": [],
   "source": [
    "# print(y_train[0])"
   ]
  },
  {
   "cell_type": "code",
   "execution_count": 23,
   "metadata": {
    "collapsed": true
   },
   "outputs": [],
   "source": [
    "# 会将100张RGB三通道的16*32彩色图表示为(100,16,32,3)，\n",
    "# 第一个维度是样本维，表示样本的数目，\n",
    "# 第二和第三个维度是高和宽，\n",
    "# 最后一个维度是通道维，表示颜色通道数\n",
    "x_train = x_train.reshape(x_train.shape[0], img_rows, img_cols, 1)\n",
    "x_test = x_test.reshape(x_test.shape[0], img_rows, img_cols, 1)\n",
    "input_shape = (img_rows, img_cols, 1)"
   ]
  },
  {
   "cell_type": "code",
   "execution_count": 24,
   "metadata": {},
   "outputs": [
    {
     "name": "stdout",
     "output_type": "stream",
     "text": [
      "x_train shape: (60000, 28, 28, 1)\n",
      "60000 train samples\n",
      "10000 test samples\n"
     ]
    }
   ],
   "source": [
    "# 把数据变成float32\n",
    "x_train = x_train.astype('float32')\n",
    "x_test = x_test.astype('float32')\n",
    "x_train /= 255\n",
    "x_test /= 255\n",
    "print('x_train shape:', x_train.shape)\n",
    "print(x_train.shape[0], 'train samples')\n",
    "print(x_test.shape[0], 'test samples')"
   ]
  },
  {
   "cell_type": "code",
   "execution_count": 25,
   "metadata": {
    "collapsed": true
   },
   "outputs": [],
   "source": [
    "# 把类别0-9变成2进制，方便训练\n",
    "y_train = keras.utils.np_utils.to_categorical(y_train, num_classes)\n",
    "y_test = keras.utils.np_utils.to_categorical(y_test, num_classes)"
   ]
  },
  {
   "cell_type": "code",
   "execution_count": 26,
   "metadata": {
    "collapsed": true
   },
   "outputs": [],
   "source": [
    "# 加入一个序贯模型\n",
    "model = Sequential()"
   ]
  },
  {
   "cell_type": "code",
   "execution_count": 27,
   "metadata": {
    "collapsed": true
   },
   "outputs": [],
   "source": [
    "# 加入一个具有6个输出（也就是卷积通道）的2D卷积层，激活函数选用relu，padding为valid，过滤器的尺寸选用5*5像素窗口\n",
    "# 加入一个尺寸为2*2的最大池化层\n",
    "# 加入一个具有16个输出（也就是卷积通道）的2D卷积层，激活函数选用relu，padding为valid，过滤器的尺寸选用5*5像素窗口\n",
    "# 加入一个尺寸为2*2的最大池化层\n",
    "model.add(Conv2D(filters=6,activation='relu', input_shape=input_shape,padding='valid',kernel_size=(5,5)))\n",
    "# add BatchNormalization\n",
    "model.add(BatchNormalization(epsilon=1e-6,axis=1))\n",
    "model.add(MaxPooling2D(pool_size=(2, 2)))\n",
    "model.add(Conv2D(filters=16, activation='relu',padding='valid',kernel_size=(5,5)))\n",
    "model.add(MaxPooling2D(pool_size=(2, 2)))"
   ]
  },
  {
   "cell_type": "code",
   "execution_count": 28,
   "metadata": {
    "collapsed": true
   },
   "outputs": [],
   "source": [
    "#加入一个Flatten层\n",
    "#按照Keras官方的解释：Flatten层用来将输入“压平”，即把多维的输入一维化，常用在从卷积层到全连接层的过渡。\n",
    "#Flatten不影响batch的大小。\n",
    "#加入一个有120个输出的全连接层，激活函数选用relu\n",
    "#加入一个有84个输出的全连接层，激活函数选用relu\n",
    "#加入一个有10个输出的输出层，激活函数选用softmax\n",
    "model.add(Flatten())  \n",
    "model.add(Dense(120, activation='relu'))\n",
    "model.add(Dense(84, activation='relu'))\n",
    "model.add(Dense(num_classes, activation='softmax'))"
   ]
  },
  {
   "cell_type": "code",
   "execution_count": 29,
   "metadata": {
    "collapsed": true
   },
   "outputs": [],
   "source": [
    "adam_lr = 0.0002\n",
    "adam_beta_1 = 0.5"
   ]
  },
  {
   "cell_type": "code",
   "execution_count": 30,
   "metadata": {},
   "outputs": [
    {
     "name": "stdout",
     "output_type": "stream",
     "text": [
      "Epoch 1/6\n",
      "60000/60000 [==============================] - 78s 1ms/step - loss: 0.4804 - acc: 0.8640\n",
      "Epoch 2/6\n",
      "60000/60000 [==============================] - 80s 1ms/step - loss: 0.1220 - acc: 0.9637\n",
      "Epoch 3/6\n",
      "60000/60000 [==============================] - 83s 1ms/step - loss: 0.0892 - acc: 0.9727\n",
      "Epoch 4/6\n",
      "60000/60000 [==============================] - 75s 1ms/step - loss: 0.0721 - acc: 0.9784\n",
      "Epoch 5/6\n",
      "60000/60000 [==============================] - 83s 1ms/step - loss: 0.0605 - acc: 0.9814\n",
      "Epoch 6/6\n",
      "60000/60000 [==============================] - 81s 1ms/step - loss: 0.0520 - acc: 0.9843\n",
      "10000/10000 [==============================] - 10s 955us/step\n",
      "Test loss: 0.05509914552643895\n",
      "Test accuracy: 0.9807\n"
     ]
    }
   ],
   "source": [
    "#组建工程并训练\n",
    "#optimizer='sgd'\n",
    "model.compile(optimizer=Adam(lr=adam_lr, beta_1=adam_beta_1),loss='categorical_crossentropy',metrics=['accuracy'])\n",
    "# epochs=12\n",
    "model.fit(x_train, y_train, batch_size=128, epochs=6, verbose=1, shuffle=True)  \n",
    "score = model.evaluate(x_test, y_test, verbose=1)\n",
    "print('Test loss:', score[0])\n",
    "print('Test accuracy:', score[1])"
   ]
  },
  {
   "cell_type": "code",
   "execution_count": 31,
   "metadata": {
    "collapsed": true
   },
   "outputs": [],
   "source": [
    "# add BatchNormalization\n",
    "# Epoch 1/6\n",
    "# 60000/60000 [==============================] - 86s 1ms/step - loss: 0.5034 - acc: 0.8493\n",
    "# Epoch 2/6\n",
    "# 60000/60000 [==============================] - 72s 1ms/step - loss: 0.1613 - acc: 0.9515\n",
    "# Epoch 3/6\n",
    "# 60000/60000 [==============================] - 72s 1ms/step - loss: 0.1151 - acc: 0.9654\n",
    "# Epoch 4/6\n",
    "# 60000/60000 [==============================] - 71s 1ms/step - loss: 0.0925 - acc: 0.9720\n",
    "# Epoch 5/6\n",
    "# 60000/60000 [==============================] - 73s 1ms/step - loss: 0.0789 - acc: 0.9765\n",
    "# Epoch 6/6\n",
    "# 60000/60000 [==============================] - 81s 1ms/step - loss: 0.0699 - acc: 0.9785\n",
    "# 10000/10000 [==============================] - 9s 871us/step\n",
    "# Test loss: 0.061645476794615385\n",
    "# Test accuracy: 0.9794"
   ]
  },
  {
   "cell_type": "code",
   "execution_count": 32,
   "metadata": {
    "collapsed": true
   },
   "outputs": [],
   "source": [
    "#保存模型到文件\n",
    "model.save('mnist_cnn_keras.h5')"
   ]
  },
  {
   "cell_type": "code",
   "execution_count": null,
   "metadata": {
    "collapsed": true
   },
   "outputs": [],
   "source": []
  },
  {
   "cell_type": "code",
   "execution_count": null,
   "metadata": {
    "collapsed": true
   },
   "outputs": [],
   "source": []
  }
 ],
 "metadata": {
  "kernelspec": {
   "display_name": "Python 3",
   "language": "python",
   "name": "python3"
  },
  "language_info": {
   "codemirror_mode": {
    "name": "ipython",
    "version": 3
   },
   "file_extension": ".py",
   "mimetype": "text/x-python",
   "name": "python",
   "nbconvert_exporter": "python",
   "pygments_lexer": "ipython3",
   "version": "3.6.2"
  }
 },
 "nbformat": 4,
 "nbformat_minor": 2
}
